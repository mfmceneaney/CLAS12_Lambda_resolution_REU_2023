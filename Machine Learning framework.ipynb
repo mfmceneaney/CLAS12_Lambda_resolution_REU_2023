{
 "cells": [
  {
   "cell_type": "markdown",
   "id": "bored-tackle",
   "metadata": {},
   "source": [
    "# ML"
   ]
  },
  {
   "cell_type": "code",
   "execution_count": 1,
   "id": "conscious-monday",
   "metadata": {},
   "outputs": [
    {
     "name": "stderr",
     "output_type": "stream",
     "text": [
      "Matplotlib created a temporary config/cache directory at /tmp/matplotlib-mfkj8v19 because the default path (/home/jovyan/.cache/matplotlib) is not a writable directory; it is highly recommended to set the MPLCONFIGDIR environment variable to a writable directory, in particular to speed up the import of Matplotlib and to better support multiprocessing.\n"
     ]
    },
    {
     "name": "stdout",
     "output_type": "stream",
     "text": [
      "Welcome to JupyROOT 6.22/06\n"
     ]
    }
   ],
   "source": [
    "# Import statements\n",
    "\n",
    "import hipopy.hipopy as hipopy # <--- Package for reading in the hipo files\n",
    "import numpy as np\n",
    "import matplotlib.pyplot as plt\n",
    "from matplotlib import rc\n",
    "import ROOT\n",
    "import timeit\n",
    "import statistics\n",
    "import tensorflow as tf\n",
    "from tensorflow import keras as keras\n",
    "from tensorflow.keras.preprocessing.sequence import pad_sequences\n",
    "\n",
    "# Set LaTeX font for Matplotlib\n",
    "rc('text', usetex=True)\n",
    "\n",
    "# Set default plot font size\n",
    "plt.rcParams['font.size'] = 16"
   ]
  },
  {
   "cell_type": "code",
   "execution_count": 2,
   "id": "trained-preview",
   "metadata": {},
   "outputs": [
    {
     "name": "stdout",
     "output_type": "stream",
     "text": [
      "REC::Particle data \n",
      "====================================================================================================\n"
     ]
    },
    {
     "data": {
      "text/plain": [
       "{'pid': 'I',\n",
       " 'px': 'F',\n",
       " 'py': 'F',\n",
       " 'pz': 'F',\n",
       " 'vx': 'F',\n",
       " 'vy': 'F',\n",
       " 'vz': 'F',\n",
       " 'vt': 'F',\n",
       " 'charge': 'B',\n",
       " 'beta': 'F',\n",
       " 'chi2pid': 'F',\n",
       " 'status': 'S'}"
      ]
     },
     "metadata": {},
     "output_type": "display_data"
    },
    {
     "name": "stdout",
     "output_type": "stream",
     "text": [
      "==================================================================================================== \n",
      "REC::Traj data \n",
      "====================================================================================================\n"
     ]
    },
    {
     "data": {
      "text/plain": [
       "{'pindex': 'S',\n",
       " 'index': 'S',\n",
       " 'detector': 'B',\n",
       " 'layer': 'B',\n",
       " 'x': 'F',\n",
       " 'y': 'F',\n",
       " 'z': 'F',\n",
       " 'cx': 'F',\n",
       " 'cy': 'F',\n",
       " 'cz': 'F',\n",
       " 'path': 'F'}"
      ]
     },
     "metadata": {},
     "output_type": "display_data"
    },
    {
     "name": "stdout",
     "output_type": "stream",
     "text": [
      "MC::Lund data \n",
      "====================================================================================================\n"
     ]
    },
    {
     "data": {
      "text/plain": [
       "{'index': 'B',\n",
       " 'lifetime': 'F',\n",
       " 'type': 'B',\n",
       " 'pid': 'I',\n",
       " 'parent': 'B',\n",
       " 'daughter': 'B',\n",
       " 'px': 'F',\n",
       " 'py': 'F',\n",
       " 'pz': 'F',\n",
       " 'energy': 'F',\n",
       " 'mass': 'F',\n",
       " 'vx': 'F',\n",
       " 'vy': 'F',\n",
       " 'vz': 'F'}"
      ]
     },
     "metadata": {},
     "output_type": "display_data"
    },
    {
     "name": "stdout",
     "output_type": "stream",
     "text": [
      "compression type = 0 data length = 24682\n",
      "compression type = 0 data length = 24682\n",
      "compression type = 0 data length = 24682\n",
      "compression type = 0 data length = 24682\n",
      "compression type = 0 data length = 24682\n"
     ]
    }
   ],
   "source": [
    "# opening up some .hipo files\n",
    "\n",
    "filename0 = \"/volatile/clas12/users/mfmce/mc_jobs_rga_vtx_3_23_23/skim_50nA_OB_job_3313_0.hipo\"\n",
    "filename1 = \"/volatile/clas12/users/mfmce/mc_jobs_rga_vtx_3_23_23/skim_50nA_OB_job_3313_1.hipo\"\n",
    "filename2 = \"/volatile/clas12/users/mfmce/mc_jobs_rga_vtx_3_23_23/skim_50nA_OB_job_3313_2.hipo\"\n",
    "filename3 = \"/volatile/clas12/users/mfmce/mc_jobs_rga_vtx_3_23_23/skim_50nA_OB_job_3313_3.hipo\"\n",
    "filename4 = \"/volatile/clas12/users/mfmce/mc_jobs_rga_vtx_3_23_23/skim_50nA_OB_job_3313_4.hipo\"\n",
    "\n",
    "hipo_file0 = hipopy.open(filename0,mode='r')\n",
    "hipo_file1 = hipopy.open(filename1,mode='r')\n",
    "hipo_file2 = hipopy.open(filename2,mode='r')\n",
    "hipo_file3 = hipopy.open(filename3,mode='r')\n",
    "hipo_file4 = hipopy.open(filename4,mode='r')\n",
    "\n",
    "hipo_array = [hipo_file0, hipo_file1, hipo_file2, hipo_file3, hipo_file4]\n",
    "\n",
    "# Showing the data types inside each bank\n",
    "\n",
    "print(\"REC::Particle data\",\"\\n\"+100*\"=\")\n",
    "display(hipo_file1.getNamesAndTypes('REC::Particle'))\n",
    "print(100*\"=\",\"\\nREC::Traj data\",\"\\n\"+100*\"=\")\n",
    "display(hipo_file1.getNamesAndTypes('REC::Traj'))\n",
    "print(\"MC::Lund data\",\"\\n\"+100*\"=\")\n",
    "display(hipo_file1.getNamesAndTypes('MC::Lund'))"
   ]
  },
  {
   "cell_type": "code",
   "execution_count": 3,
   "id": "exceptional-works",
   "metadata": {},
   "outputs": [],
   "source": [
    "# defining function to find xF\n",
    "# q is the pion, p is the virtual photon\n",
    "def calculate_xF(q, p, init_target):\n",
    "    W = (init_target + p).M()\n",
    "    com = q + init_target\n",
    "    comBOOST = com.BoostVector()\n",
    "    qq = q\n",
    "    pp = p\n",
    "    qq.Boost(-comBOOST)\n",
    "    pp.Boost(-comBOOST)\n",
    "    return 2 * ( qq.Vect().Dot(pp.Vect()) ) / ( qq.Vect().Mag() * W )\n",
    "\n",
    "# defining functions to get Q2\n",
    "\n",
    "# for the pion\n",
    "def cthfunc(Px, Py, Pz):\n",
    "\n",
    "    Pt = np.sqrt(Px*Px + Py*Py)\n",
    "    return Pz / np.sqrt(Pz * Pz + Pt * Pt)\n",
    "\n",
    "# for the electrons\n",
    "def Q2func(E2, cth):\n",
    "    E1 = 10.6 # GeV\n",
    "    return 2 * E1 * E2 * (1.0 - cth)\n",
    "\n",
    "# in MC::Lund, we want the energy of the second electron, so we need this function:\n",
    "def find_second_index(lst, value):\n",
    "    try:\n",
    "        first_index = lst.index(value)\n",
    "        return lst.index(value, first_index + 1)\n",
    "    except ValueError:\n",
    "        # Handle the case when the value is not found or there is no second occurrence\n",
    "        return None\n",
    "\n",
    "# making random colors\n",
    "import random\n",
    "\n",
    "def get_random_color():\n",
    "    # Generate random values for red, green, and blue channels\n",
    "    r = random.random()\n",
    "    g = random.random()\n",
    "    b = random.random()\n",
    "\n",
    "    # Return the color as a tuple\n",
    "    return r, g, b"
   ]
  },
  {
   "cell_type": "code",
   "execution_count": 4,
   "id": "induced-commander",
   "metadata": {},
   "outputs": [],
   "source": [
    "Mpion = 0.139570 # GeV\n",
    "Mproton = 0.938272 # GeV"
   ]
  },
  {
   "cell_type": "code",
   "execution_count": 5,
   "id": "entertaining-violence",
   "metadata": {},
   "outputs": [
    {
     "name": "stdout",
     "output_type": "stream",
     "text": [
      "time spent computing: 21.033684940077364\n"
     ]
    }
   ],
   "source": [
    "p_recon = []\n",
    "theta_recon = []\n",
    "phi_recon = []\n",
    "\n",
    "x = []\n",
    "y = []\n",
    "z = []\n",
    "\n",
    "p_true = []\n",
    "theta_true = []\n",
    "phi_true = []\n",
    "\n",
    "vx = []\n",
    "vy = []\n",
    "vz = []\n",
    "\n",
    "xF = []\n",
    "q2 = []\n",
    "\n",
    "# limit on iterations (for each hipo file)\n",
    "Nevents = 1e4\n",
    "\n",
    "start_time = timeit.default_timer()\n",
    "\n",
    "for k,_ in enumerate(hipo_array):\n",
    "    \n",
    "    for i,_ in enumerate(hipo_array[k]):\n",
    "        if (i > Nevents):\n",
    "            break\n",
    "\n",
    "        # pulling out data from each event\n",
    "        detectors_temp = hipo_array[k].getBytes(\"REC::Traj\", \"detector\")\n",
    "        p_index_temp = hipo_array[k].getShorts(\"REC::Traj\", \"pindex\")\n",
    "        charge_temp = hipo_array[k].getBytes(\"REC::Particle\", \"charge\")\n",
    "        \n",
    "        px_recon = hipo_array[k].getFloats(\"REC::Particle\", \"px\")\n",
    "        py_recon = hipo_array[k].getFloats(\"REC::Particle\", \"py\")\n",
    "        pz_recon = hipo_array[k].getFloats(\"REC::Particle\", \"pz\")\n",
    "        pid_recon = hipo_array[k].getInts(\"REC::Particle\", \"pid\")\n",
    "                \n",
    "        # delete the data of the neutral particles since it'll make counting with pindex possible\n",
    "        if 0 in charge_temp:\n",
    "            first_zero_index = charge_temp.index(0)\n",
    "            del px_recon[first_zero_index:], py_recon[first_zero_index:], pz_recon[first_zero_index:], pid_recon[first_zero_index:], charge_temp[first_zero_index:]\n",
    "            \n",
    "        pion_indices_recon = [q for q in range(len(pid_recon)) if pid_recon[q] == -211]\n",
    "        \n",
    "        # getting coordinate data from REC::Traj\n",
    "        x_temp = hipo_array[k].getFloats(\"REC::Traj\", \"x\")\n",
    "        y_temp = hipo_array[k].getFloats(\"REC::Traj\", \"y\")\n",
    "        z_temp = hipo_array[k].getFloats(\"REC::Traj\", \"z\")\n",
    "        \n",
    "        \n",
    "        # getting info on the virtual photon so I can do the xF > 0 cut\n",
    "        pid_Lund = hipo_array[k].getInts(\"MC::Lund\", \"pid\")\n",
    "        px_Lund = hipo_array[k].getFloats(\"MC::Lund\", \"px\")\n",
    "        py_Lund = hipo_array[k].getFloats(\"MC::Lund\", \"py\")\n",
    "        pz_Lund = hipo_array[k].getFloats(\"MC::Lund\", \"pz\")\n",
    "        masses = hipo_array[k].getFloats(\"MC::Lund\", \"mass\")\n",
    "        energies = hipo_array[k].getFloats(\"MC::Lund\", \"energy\")\n",
    "        \n",
    "        virtual_photon_index = pid_Lund.index(22)\n",
    "        virtual_photon = ROOT.TLorentzVector()\n",
    "        virtual_photon.SetXYZM(px_Lund[virtual_photon_index], py_Lund[virtual_photon_index], pz_Lund[virtual_photon_index], masses[virtual_photon_index])\n",
    "        \n",
    "        # initial target: proton at rest\n",
    "        proton_target = ROOT.TLorentzVector()\n",
    "        proton_target.SetXYZM(0, 0, 0, Mproton)\n",
    "        \n",
    "        # Q2 cut\n",
    "        scattered_electron_index = find_second_index(pid_Lund, 11)\n",
    "        cth = cthfunc(px_Lund[scattered_electron_index], py_Lund[scattered_electron_index], pz_Lund[scattered_electron_index])\n",
    "\n",
    "        q2_temp = Q2func(energies[scattered_electron_index], cth)\n",
    "        q2.append(q2_temp)\n",
    "        if q2_temp < 1:\n",
    "            continue\n",
    "        \n",
    "        # looping through reconstructed pions\n",
    "        for j,_ in enumerate(pion_indices_recon):\n",
    "            \n",
    "            pion_location = pion_indices_recon[j]\n",
    "            pion_vector_recon = ROOT.TLorentzVector()\n",
    "            pion_vector_recon.SetXYZM(px_recon[pion_location], py_recon[pion_location], pz_recon[pion_location], Mpion)\n",
    "            \n",
    "            # xF cut\n",
    "            xF_temp = calculate_xF(pion_vector_recon, virtual_photon, proton_target)\n",
    "            xF.append(xF_temp)\n",
    "            if xF_temp <= 0:\n",
    "                continue\n",
    "            \n",
    "            # we want the coordinate data between the first instance of pion_location and the last instance of pion_location\n",
    "            first_instance = p_index_temp.index(pion_location)\n",
    "            last_instance = len(p_index_temp) - p_index_temp[::-1].index(pion_location) - 1\n",
    "            \n",
    "            # getting coordinate input strings of ONLY 11 x, y, and z coordinates per pion\n",
    "            if ((last_instance - first_instance) != 10):\n",
    "                continue\n",
    "            x_append = []\n",
    "            y_append = []\n",
    "            z_append = []\n",
    "            \n",
    "            for m in range(first_instance, last_instance + 1):  # end value for range is exclusive\n",
    "                x_append.append(x_temp[m])\n",
    "                y_append.append(y_temp[m])\n",
    "                z_append.append(z_temp[m])\n",
    "            \n",
    "            \n",
    "            \n",
    "            p_recon_temp = pion_vector_recon.P()\n",
    "            if (p_recon_temp < 2): # let's not deal with the pions with stupid high momentum\n",
    "                \n",
    "                p_recon.append(p_recon_temp) # append total momentum\n",
    "                theta_recon.append(pion_vector_recon.Theta() *180/np.pi) # append calculated azimuthal angle in degrees\n",
    "                phi_recon.append(pion_vector_recon.Phi() *180/np.pi) # append calculated polar angle in degrees\n",
    "                \n",
    "                x.append(x_append)\n",
    "                y.append(y_append)\n",
    "                z.append(z_append)\n",
    "                \n",
    "        \n",
    "        # true data now\n",
    "        \n",
    "        px_true = hipo_array[k].getFloats(\"MC::Lund\", \"px\")\n",
    "        py_true = hipo_array[k].getFloats(\"MC::Lund\", \"py\")\n",
    "        pz_true = hipo_array[k].getFloats(\"MC::Lund\", \"pz\")\n",
    "        pid_true = hipo_array[k].getInts(\"MC::Lund\", \"pid\")\n",
    "        \n",
    "        pion_indices_true = [q for q in range(len(pid_true)) if pid_true[q] == -211]\n",
    "        \n",
    "        # looping through pions\n",
    "        for j,_ in enumerate(pion_indices_true):\n",
    "            \n",
    "            pion_location = pion_indices_true[j]\n",
    "            pion_vector_true = ROOT.TLorentzVector()\n",
    "            pion_vector_true.SetXYZM(px_true[pion_location], py_true[pion_location], pz_true[pion_location], Mpion)\n",
    "            \n",
    "            # xF cut\n",
    "            xF_temp = calculate_xF(pion_vector_true, virtual_photon, proton_target)\n",
    "            xF.append(xF_temp)\n",
    "            if xF_temp <= 0:\n",
    "                continue\n",
    "            \n",
    "            p_true.append(pion_vector_true.P()) # append total momentum\n",
    "            theta_true.append(pion_vector_true.Theta() * 180 / np.pi) # append calculated azimuthal angle in degrees\n",
    "            phi_true.append(pion_vector_true.Phi() * 180 / np.pi) # append calculated polar angle in degrees\n",
    "            \n",
    "            vx.append(hipo_array[k].getFloats(\"MC::Lund\", \"vx\")[pion_location])\n",
    "            vy.append(hipo_array[k].getFloats(\"MC::Lund\", \"vy\")[pion_location])\n",
    "            vz.append(hipo_array[k].getFloats(\"MC::Lund\", \"vz\")[pion_location])\n",
    "        \n",
    "print(\"time spent computing:\", timeit.default_timer() - start_time)"
   ]
  },
  {
   "cell_type": "code",
   "execution_count": 6,
   "id": "western-laugh",
   "metadata": {},
   "outputs": [
    {
     "name": "stdout",
     "output_type": "stream",
     "text": [
      "[-0.005900000222027302, -9.999999747378752e-05, -9.999999747378752e-05, 0.005100000184029341, 0.005100000184029341, -0.002400000113993883, 3.2500998973846436, -0.0071000000461936, -0.0071000000461936, -0.002300000051036477, -0.007699999958276749, 0.0, -2.740799903869629, 0.006899999920278788, 0.004900000058114529, 0.002400000113993883, 0.0010000000474974513, 0.0010000000474974513, 0.0032999999821186066, -0.002899999963119626, -0.002899999963119626, -0.00039999998989515007, -2.007499933242798, -0.0008999999845400453, 0.006000000052154064] \n",
      "\n",
      " [0.0038999998942017555, -0.0071000000461936, -0.0071000000461936, -0.00019999999494757503, -0.00019999999494757503, -0.006399999838322401, -0.8202000260353088, 0.0027000000700354576, 0.0027000000700354576, -0.00860000029206276, -0.005499999970197678, 0.00279999990016222, 0.04600000008940697, 0.00039999998989515007, -0.008500000461935997, 0.009200000204145908, -0.0027000000700354576, -0.0027000000700354576, 0.007000000216066837, 0.0019000000320374966, 0.0019000000320374966, 0.002300000051036477, -0.6686000227928162, -0.006899999920278788, -0.004600000102072954] \n",
      "\n",
      " [-3.1396000385284424, -3.451200008392334, -3.451200008392334, -2.9161999225616455, -2.9161999225616455, -0.5013999938964844, 3.3715999126434326, -4.582499980926514, -4.582499980926514, -3.259200096130371, -1.777899980545044, -2.9465999603271484, 1.5777000188827515, -4.776400089263916, -4.0208001136779785, -2.216200113296509, -0.7835999727249146, -0.7835999727249146, -4.307700157165527, -5.34499979019165, -5.34499979019165, -4.412399768829346, 2.3573999404907227, -3.4704999923706055, -3.6324000358581543]\n"
     ]
    }
   ],
   "source": [
    "print(vx[:25], \"\\n\\n\", vy[:25], \"\\n\\n\", vz[:25])"
   ]
  },
  {
   "cell_type": "markdown",
   "id": "atlantic-shoulder",
   "metadata": {},
   "source": [
    "# Matching reconstructed to true pions"
   ]
  },
  {
   "cell_type": "code",
   "execution_count": 7,
   "id": "wound-independence",
   "metadata": {},
   "outputs": [
    {
     "name": "stdout",
     "output_type": "stream",
     "text": [
      "p vector lengths: 47380 35690\n"
     ]
    }
   ],
   "source": [
    "print(\"p vector lengths:\", len(p_true), len(p_recon))"
   ]
  },
  {
   "cell_type": "code",
   "execution_count": 8,
   "id": "progressive-fireplace",
   "metadata": {},
   "outputs": [
    {
     "name": "stdout",
     "output_type": "stream",
     "text": [
      "time computing 1184.5680342921987\n",
      "[[    0     1     2 ... 47373 47374 47378]\n",
      " [10455  5954 28219 ...  2497 24136  4920]]\n",
      "1690992200\n"
     ]
    }
   ],
   "source": [
    "# matching with cutoffs |theta_mc-theta_rec|<2deg and |phi_mc-phi_rec|<6deg, minimize quadrature sum error\n",
    "# change matching formula to also include momentum? |p_true - p_recon|<0.05 GeV\n",
    "\n",
    "start_time = timeit.default_timer()\n",
    "\n",
    "p_recon_changing = p_recon[:]\n",
    "theta_recon_changing = theta_recon[:]\n",
    "phi_recon_changing = phi_recon[:]\n",
    "\n",
    "matching_indices = np.zeros((2, len(p_true)), dtype=int)\n",
    "unmatched_indices = np.array([], dtype=int)\n",
    "num_matches = 0\n",
    "\n",
    "# going through all the \"true\" pions\n",
    "for i,_ in enumerate(p_true):\n",
    "    \n",
    "    min_quad_error = 1000 # arbitrary large number\n",
    "    for j,_ in enumerate(p_recon): # for each true pion, look through every reconstructed pion\n",
    "        \n",
    "        theta_error = theta_true[i] - theta_recon_changing[j]\n",
    "        phi_error = phi_true[i] - phi_recon_changing[j]\n",
    "        p_error = p_true[i] - p_recon_changing[j] \n",
    "        \n",
    "        if ( (abs(theta_error) < 2 or abs(theta_error) > 178) & (abs(phi_error) < 6 or abs(phi_error) > 354) & (abs(p_error) < 0.05) ): # does this true pion have a similar reconstructed pion, based on their angles?\n",
    "            min_quad_error_temp = np.sqrt((theta_error) ** 2 + (phi_error) ** 2) + 10 * p_error # in case there are multiple hits, we can minimize based off a quadrature sum\n",
    "            if (min_quad_error_temp < min_quad_error):\n",
    "                min_quad_error = min_quad_error_temp\n",
    "                recon_index = j # saving the matched index of the \"best\" reconstructed pion\n",
    "                \n",
    "    if (min_quad_error < 1000): # if there were any matches for this true pion, essentially\n",
    "        matching_indices[0][num_matches] = i\n",
    "        matching_indices[1][num_matches] = recon_index # saving the matching indices of the true and reconstructed pions\n",
    "        \n",
    "        p_recon_changing[recon_index] = 100\n",
    "        theta_recon_changing[recon_index] = 100\n",
    "        phi_recon_changing[recon_index] = 100  # this is my way of avoiding duplicates - obviously angles of 100 degrees will not be put as a match to other pions going forward\n",
    "        \n",
    "        num_matches += 1\n",
    "    else:\n",
    "        unmatched_indices = np.append(unmatched_indices, [i])\n",
    "        \n",
    "matching_indices = matching_indices[:, :num_matches]\n",
    "\n",
    "print(\"time computing\", timeit.default_timer() - start_time)\n",
    "print(matching_indices)\n",
    "print(len(p_true) * len(p_recon))"
   ]
  },
  {
   "cell_type": "code",
   "execution_count": 9,
   "id": "absolute-dining",
   "metadata": {},
   "outputs": [
    {
     "name": "stdout",
     "output_type": "stream",
     "text": [
      "34001 47380 35690\n"
     ]
    }
   ],
   "source": [
    "print(num_matches, len(p_true), len(p_recon))"
   ]
  },
  {
   "cell_type": "code",
   "execution_count": 10,
   "id": "moved-record",
   "metadata": {},
   "outputs": [],
   "source": [
    "# rearrange data to input better\n",
    "\n",
    "p_true_constant = p_true[:]\n",
    "p_recon_constant = p_recon[:]\n",
    "\n",
    "theta_true_constant = theta_true[:]\n",
    "theta_recon_constant = theta_recon[:]\n",
    "\n",
    "phi_true_constant = phi_true[:]\n",
    "phi_recon_constant = phi_recon[:]\n",
    "\n",
    "x_constant = x[:]\n",
    "y_constant = y[:]\n",
    "z_constant = z[:]\n",
    "\n",
    "vx_constant = vx[:]\n",
    "vy_constant = vy[:]\n",
    "vz_constant = vz[:]\n",
    "\n",
    "for i in range(0, len(matching_indices[0])):\n",
    "    p_true[i] = p_true_constant[matching_indices[0][i]]\n",
    "    p_recon[i] = p_recon_constant[matching_indices[1][i]]\n",
    "    theta_true[i] = theta_true_constant[matching_indices[0][i]]\n",
    "    theta_recon[i] = theta_recon_constant[matching_indices[1][i]]\n",
    "    phi_true[i] = phi_true_constant[matching_indices[0][i]]\n",
    "    phi_recon[i] = phi_recon_constant[matching_indices[1][i]]\n",
    "    \n",
    "    x[i] = x_constant[matching_indices[1][i]]\n",
    "    y[i] = y_constant[matching_indices[1][i]]\n",
    "    z[i] = z_constant[matching_indices[1][i]]\n",
    "    \n",
    "    vx[i] = vx_constant[matching_indices[0][i]]\n",
    "    vy[i] = vy_constant[matching_indices[0][i]]\n",
    "    vz[i] = vz_constant[matching_indices[0][i]]"
   ]
  },
  {
   "cell_type": "code",
   "execution_count": 11,
   "id": "charming-scheduling",
   "metadata": {},
   "outputs": [
    {
     "name": "stdout",
     "output_type": "stream",
     "text": [
      "[-0.00770586 -0.02445502 -0.00486927 -0.04445754 -0.04855045 -0.03501522\n",
      " -0.02711125 -0.03371091 -0.04525031 -0.00222041 -0.04091765  0.04281545\n",
      "  0.00022521 -0.04214774 -0.01933323 -0.03913383  0.02882085  0.00011112\n",
      "  0.00228239 -0.04968703  0.0002493  -0.00398625 -0.04967391 -0.04559126\n",
      "  0.00112001]\n"
     ]
    }
   ],
   "source": [
    "print(np.array(p_true[:25]) - np.array(p_recon[:25]))"
   ]
  },
  {
   "cell_type": "code",
   "execution_count": 12,
   "id": "remarkable-lexington",
   "metadata": {},
   "outputs": [],
   "source": [
    "# shortening data to the good stuff\n",
    "\n",
    "p_true = p_true[:num_matches]\n",
    "p_recon = p_recon[:num_matches]\n",
    "theta_true = theta_true[:num_matches]\n",
    "theta_recon = theta_recon[:num_matches]\n",
    "phi_true = phi_true[:num_matches]\n",
    "phi_recon = phi_recon[:num_matches]\n",
    "\n",
    "x = x[:num_matches]\n",
    "y = y[:num_matches]\n",
    "z = z[:num_matches]\n",
    "\n",
    "vx = vx[:num_matches]\n",
    "vy = vy[:num_matches]\n",
    "vz = vz[:num_matches]"
   ]
  },
  {
   "cell_type": "code",
   "execution_count": 13,
   "id": "rising-drawing",
   "metadata": {},
   "outputs": [
    {
     "data": {
      "image/png": "[encoded data removed]",
      "text/plain": [
       "<Figure size 1800x576 with 3 Axes>"
      ]
     },
     "metadata": {
      "needs_background": "light"
     },
     "output_type": "display_data"
    }
   ],
   "source": [
    "# Create a grid of subplots\n",
    "fig1, axs1 = plt.subplots(1, 3, figsize=(25, 8))\n",
    "\n",
    "# Adjust spacing\n",
    "fig1.subplots_adjust(hspace=0.5)\n",
    "fig1.subplots_adjust(wspace=0.5)\n",
    "\n",
    "axs1[0].hist(np.array(p_true) - np.array(p_recon), bins=200, color=\"black\")\n",
    "axs1[0].set_xlabel(\"momentum, p resolution(GeV)\")\n",
    "axs1[0].set_ylabel(\"Count\")\n",
    "\n",
    "axs1[1].hist(np.array(theta_true) - np.array(theta_recon), bins=200, color=\"blue\")\n",
    "axs1[1].set_xlabel(r\"azimuthal angle $\\theta$ resolution(degrees)\")\n",
    "axs1[1].set_ylabel(\"Count\")\n",
    "\n",
    "axs1[1].set_title(\"p, theta, and phi resolution MC\\n\\n\", loc='center', fontsize=24)\n",
    "\n",
    "\n",
    "axs1[2].hist(np.array(phi_true) - np.array(phi_true), bins=200, color=\"green\")\n",
    "axs1[2].set_xlabel(\"polar angle $\\phi$ resolution(degrees)\")\n",
    "axs1[2].set_ylabel(\"Count\")\n",
    "\n",
    "\n",
    "plt.show()"
   ]
  },
  {
   "cell_type": "code",
   "execution_count": 38,
   "id": "threatened-surname",
   "metadata": {},
   "outputs": [
    {
     "data": {
      "image/png": "[encoded data removed]",
      "text/plain": [
       "<Figure size 1800x1152 with 6 Axes>"
      ]
     },
     "metadata": {
      "needs_background": "light"
     },
     "output_type": "display_data"
    }
   ],
   "source": [
    "# Create a grid of subplots\n",
    "fig1, axs1 = plt.subplots(2, 3, figsize=(25, 16))\n",
    "\n",
    "# Adjust spacing\n",
    "fig1.subplots_adjust(hspace=0.5)\n",
    "fig1.subplots_adjust(wspace=0.5)\n",
    "\n",
    "axs1[0,0].hist(p_true, bins=200, color=\"black\")\n",
    "axs1[0,0].set_xlabel(\"momentum, p (GeV)\")\n",
    "axs1[0,0].set_ylabel(\"Count\")\n",
    "\n",
    "axs1[0,1].hist(theta_true, bins=200, color=\"blue\")\n",
    "axs1[0,1].set_xlabel(r\"azimuthal angle $\\theta$ (degrees)\")\n",
    "axs1[0,1].set_ylabel(\"Count\")\n",
    "\n",
    "axs1[0,1].set_title(\"p, theta, and phi true MC\\n\\n\", loc='center', fontsize=24)\n",
    "\n",
    "axs1[0,2].hist(phi_true, bins=200, color=\"green\")\n",
    "axs1[0,2].set_xlabel(\"polar angle $\\phi$ (degrees)\")\n",
    "axs1[0,2].set_ylabel(\"Count\")\n",
    "\n",
    "\n",
    "axs1[1,0].hist(vx, bins=200, color=\"black\")\n",
    "axs1[1,0].set_xlabel(\"vx (cm)\")\n",
    "axs1[1,0].set_ylabel(\"Count\")\n",
    "\n",
    "axs1[1,1].hist(vy, bins=200, color=\"blue\")\n",
    "axs1[1,1].set_xlabel(\"vy (cm)\")\n",
    "axs1[1,1].set_ylabel(\"Count\")\n",
    "\n",
    "axs1[1,1].set_title(\"vertex true MC\\n\\n\", loc='center', fontsize=24)\n",
    "\n",
    "axs1[1,2].hist(np.array(vz)[np.array(vz) < 20], bins=200, color=\"green\")\n",
    "axs1[1,2].set_xlabel(\"vz (cm)\")\n",
    "axs1[1,2].set_ylabel(\"Count\")\n",
    "\n",
    "plt.show()"
   ]
  },
  {
   "cell_type": "markdown",
   "id": "departmental-software",
   "metadata": {},
   "source": [
    "# Data processing"
   ]
  },
  {
   "cell_type": "code",
   "execution_count": 15,
   "id": "northern-durham",
   "metadata": {},
   "outputs": [],
   "source": [
    "def normalize_2d_list(data):\n",
    "    # Find the global minimum and maximum values for all variables\n",
    "    flat_data = [item for sublist in data for item in sublist]\n",
    "    global_min = min(flat_data)\n",
    "    global_max = max(flat_data)\n",
    "\n",
    "    # Normalize the data\n",
    "    normalized_data = [[(value - global_min) / (global_max - global_min) for value in row] for row in data]\n",
    "\n",
    "    return normalized_data"
   ]
  },
  {
   "cell_type": "code",
   "execution_count": 16,
   "id": "premium-encoding",
   "metadata": {},
   "outputs": [
    {
     "data": {
      "image/png": "[encoded data removed]",
      "text/plain": [
       "<Figure size 1800x1152 with 6 Axes>"
      ]
     },
     "metadata": {
      "needs_background": "light"
     },
     "output_type": "display_data"
    }
   ],
   "source": [
    "# normalize data\n",
    "\n",
    "# training with MC data\n",
    "\n",
    "# normalize input data\n",
    "x_normalized = normalize_2d_list(x)\n",
    "y_normalized = normalize_2d_list(y)\n",
    "z_normalized = normalize_2d_list(z)\n",
    "\n",
    "# normalize vertex output data\n",
    "vx_max = max(vx)\n",
    "vy_max = max(vy)\n",
    "vz_max = max(vz)\n",
    "\n",
    "vx_normalized = [filler / vx_max for filler in vx]\n",
    "vy_normalized = [filler / vy_max for filler in vy]\n",
    "vz_normalized = [filler / vz_max for filler in vz]\n",
    "\n",
    "\n",
    "# Normalize theta values to the range [0, 1]\n",
    "theta_true_normalized = [theta / 180 for theta in theta_true]\n",
    "\n",
    "# Normalize phi values to the range [0, 1]\n",
    "phi_true_normalized = [(phi + 180) / 360 for phi in phi_true]\n",
    "\n",
    "# Normalize p values to the range [0, 1]\n",
    "p_true_normalized = [p / 2 for p in p_true]\n",
    "\n",
    "# RECON\n",
    "# Normalize theta values to the range [0, 1]\n",
    "theta_recon_normalized = [theta / 180 for theta in theta_recon]\n",
    "\n",
    "# Normalize phi values to the range [0, 1]\n",
    "phi_recon_normalized = [(phi + 180) / 360 for phi in phi_recon]\n",
    "\n",
    "# Normalize p values to the range [0, 1]\n",
    "p_recon_normalized = [p / 2 for p in p_recon]\n",
    "\n",
    "# Create a grid of subplots\n",
    "fig1, axs1 = plt.subplots(2, 3, figsize=(25, 16))\n",
    "\n",
    "# Adjust spacing\n",
    "fig1.subplots_adjust(hspace=0.5)\n",
    "fig1.subplots_adjust(wspace=0.5)\n",
    "\n",
    "axs1[0,0].hist(p_true_normalized, bins=200, color=\"black\")\n",
    "axs1[0,0].set_xlabel(\"momentum, p (GeV)\")\n",
    "axs1[0,0].set_ylabel(\"Count\")\n",
    "\n",
    "axs1[0,1].hist(theta_true_normalized, bins=200, color=\"blue\")\n",
    "axs1[0,1].set_xlabel(\"azimuthal angle (degrees)\")\n",
    "axs1[0,1].set_ylabel(\"Count\")\n",
    "\n",
    "axs1[0,1].set_title(\"p, theta, and phi normalized\\n\\n\", loc='center', fontsize=24)\n",
    "\n",
    "axs1[0,2].hist(phi_true_normalized, bins=200, color=\"green\")\n",
    "axs1[0,2].set_xlabel(\"polar angle (degrees)\")\n",
    "axs1[0,2].set_ylabel(\"Count\")\n",
    "\n",
    "\n",
    "axs1[1,0].hist(vx_normalized, bins=200, color=\"black\")\n",
    "axs1[1,0].set_xlabel(\"vx\")\n",
    "axs1[1,0].set_ylabel(\"Count\")\n",
    "\n",
    "axs1[1,1].hist(vy_normalized, bins=200, color=\"blue\")\n",
    "axs1[1,1].set_xlabel(\"vy\")\n",
    "axs1[1,1].set_ylabel(\"Count\")\n",
    "\n",
    "axs1[1,1].set_title(\"vertex normalized\\n\\n\", loc='center', fontsize=24)\n",
    "\n",
    "axs1[1,2].hist(vz_normalized, bins=200, color=\"green\")\n",
    "axs1[1,2].set_xlabel(\"vz\")\n",
    "axs1[1,2].set_ylabel(\"Count\")\n",
    "\n",
    "plt.show()"
   ]
  },
  {
   "cell_type": "code",
   "execution_count": 17,
   "id": "spectacular-colorado",
   "metadata": {},
   "outputs": [],
   "source": [
    "# splitting data into training data (70%), validation data (10%), and testing data (20%)\n",
    "\n",
    "split_index_1_i = int(len(x_normalized) * 0.7)\n",
    "split_index_2_i = int(len(x_normalized) * 0.8)\n",
    "\n",
    "split_index_1_o = int(len(p_true_normalized) * 0.7)\n",
    "split_index_2_o = int(len(p_true_normalized) * 0.8)\n",
    "\n",
    "x_training = x_normalized[:split_index_1_i]\n",
    "x_validation = x_normalized[split_index_1_i:split_index_2_i]\n",
    "x_test = x_normalized[split_index_2_i:]\n",
    "y_training = y_normalized[:split_index_1_i]\n",
    "y_validation = y_normalized[split_index_1_i:split_index_2_i]\n",
    "y_test = y_normalized[split_index_2_i:]\n",
    "z_training = z_normalized[:split_index_1_i]\n",
    "z_validation = z_normalized[split_index_1_i:split_index_2_i]\n",
    "z_test = z_normalized[split_index_2_i:]\n",
    "\n",
    "p_input_training = [[item] for item in p_recon_normalized[:split_index_1_i]]\n",
    "p_input_validation = [[item] for item in p_recon_normalized[split_index_1_i:split_index_2_i]]\n",
    "p_input_test = [[item] for item in p_recon_normalized[split_index_2_i:]]\n",
    "theta_input_training = [[item] for item in theta_recon_normalized[:split_index_1_i]]\n",
    "theta_input_validation = [[item] for item in theta_recon_normalized[split_index_1_i:split_index_2_i]]\n",
    "theta_input_test = [[item] for item in theta_recon_normalized[split_index_2_i:]]\n",
    "phi_input_training = [[item] for item in phi_recon_normalized[:split_index_1_i]]\n",
    "phi_input_validation = [[item] for item in phi_recon_normalized[split_index_1_i:split_index_2_i]]\n",
    "phi_input_test = [[item] for item in phi_recon_normalized[split_index_2_i:]]\n",
    "\n",
    "p_training = p_true_normalized[:split_index_1_o]\n",
    "p_validation = p_true_normalized[split_index_1_o:split_index_2_o]\n",
    "p_test = p_true_normalized[split_index_2_o:]\n",
    "theta_training = theta_true_normalized[:split_index_1_o]\n",
    "theta_validation = theta_true_normalized[split_index_1_o:split_index_2_o]\n",
    "theta_test = theta_true_normalized[split_index_2_o:]\n",
    "phi_training = phi_true_normalized[:split_index_1_o]\n",
    "phi_validation = phi_true_normalized[split_index_1_o:split_index_2_o]\n",
    "phi_test = phi_true_normalized[split_index_2_o:]\n",
    "\n",
    "vx_training = vx_normalized[:split_index_1_o]\n",
    "vx_validation = vx_normalized[split_index_1_o:split_index_2_o]\n",
    "vx_test = vx_normalized[split_index_2_o:]\n",
    "vy_training = vy_normalized[:split_index_1_o]\n",
    "vy_validation = vy_normalized[split_index_1_o:split_index_2_o]\n",
    "vy_test = vy_normalized[split_index_2_o:]\n",
    "vz_training = vz_normalized[:split_index_1_o]\n",
    "vz_validation = vz_normalized[split_index_1_o:split_index_2_o]\n",
    "vz_test = vz_normalized[split_index_2_o:]"
   ]
  },
  {
   "cell_type": "code",
   "execution_count": 18,
   "id": "small-binary",
   "metadata": {},
   "outputs": [],
   "source": [
    "# input for training the neural network\n",
    "xyz_training = [sublist1 + sublist2 + sublist3 + sublist4 + sublist5 + sublist6 for sublist1, sublist2, sublist3, sublist4, sublist5, sublist6\n",
    "                in zip(x_training, y_training, z_training, p_input_training, theta_input_training, phi_input_training)]  \n",
    "\n",
    "# output labels for training the net\n",
    "# ALSO includes vertex data now\n",
    "p_theta_phi_training = [[0,0,0,0,0,0] for i in range(0, len(p_training))]\n",
    "for i,_ in enumerate(p_training):\n",
    "    p_theta_phi_training[i][0] = p_training[i]\n",
    "    p_theta_phi_training[i][1] = theta_training[i]\n",
    "    p_theta_phi_training[i][2] = phi_training[i]\n",
    "    p_theta_phi_training[i][3] = vx_training[i]\n",
    "    p_theta_phi_training[i][4] = vy_training[i]\n",
    "    p_theta_phi_training[i][5] = vz_training[i]\n",
    "\n",
    "# validation input data\n",
    "xyz_validation = [sublist1 + sublist2 + sublist3 + sublist4 + sublist5 + sublist6 for sublist1, sublist2, sublist3, sublist4, sublist5, sublist6\n",
    "                in zip(x_validation, y_validation, z_validation, p_input_validation, theta_input_validation, phi_input_validation)]  \n",
    "# validation output data\n",
    "p_theta_phi_validation = [[0,0,0,0,0,0] for i in range(0, len(p_validation))]\n",
    "for i,_ in enumerate(p_validation):\n",
    "    p_theta_phi_validation[i][0] = p_validation[i]\n",
    "    p_theta_phi_validation[i][1] = theta_validation[i]\n",
    "    p_theta_phi_validation[i][2] = phi_validation[i]\n",
    "    p_theta_phi_validation[i][3] = vx_validation[i]\n",
    "    p_theta_phi_validation[i][4] = vy_validation[i]\n",
    "    p_theta_phi_validation[i][5] = vz_validation[i]\n",
    "\n",
    "# test input data\n",
    "xyz_test = [sublist1 + sublist2 + sublist3 + sublist4 + sublist5 + sublist6 for sublist1, sublist2, sublist3, sublist4, sublist5, sublist6\n",
    "                in zip(x_test, y_test, z_test, p_input_test, theta_input_test, phi_input_test)]  \n",
    "# test output data\n",
    "p_theta_phi_test = [[0,0,0,0,0,0] for i in range(0, len(p_test))]\n",
    "for i,_ in enumerate(p_test):\n",
    "    p_theta_phi_test[i][0] = p_test[i]\n",
    "    p_theta_phi_test[i][1] = theta_test[i]\n",
    "    p_theta_phi_test[i][2] = phi_test[i]\n",
    "    p_theta_phi_test[i][3] = vx_test[i]\n",
    "    p_theta_phi_test[i][4] = vy_test[i]\n",
    "    p_theta_phi_test[i][5] = vz_test[i]\n",
    "\n",
    "\n",
    "# Convert training input data to a list of arrays\n",
    "xyz_training = [np.array(sublist, dtype=float) for sublist in xyz_training]\n",
    "\n",
    "# Convert training output labels to a list of arrays\n",
    "p_theta_phi_training = [np.array(sublist, dtype=float) for sublist in p_theta_phi_training]\n",
    "\n",
    "# Convert validation input data to a list of arrays\n",
    "xyz_validation = [np.array(sublist, dtype=float) for sublist in xyz_validation]\n",
    "\n",
    "# Convert validation output labels to a list of arrays\n",
    "p_theta_phi_validation = [np.array(sublist, dtype=float) for sublist in p_theta_phi_validation]\n",
    "\n",
    "# Convert test input data to a list of arrays\n",
    "xyz_test = [np.array(sublist, dtype=float) for sublist in xyz_test]\n",
    "\n",
    "# Convert test output labels to a list of arrays\n",
    "p_theta_phi_test = [np.array(sublist, dtype=float) for sublist in p_theta_phi_test]"
   ]
  },
  {
   "cell_type": "markdown",
   "id": "functional-chinese",
   "metadata": {},
   "source": [
    "## xyz 2D lists now include normalized p, theta, and phi recon values as inputs"
   ]
  },
  {
   "cell_type": "code",
   "execution_count": 19,
   "id": "chinese-browse",
   "metadata": {},
   "outputs": [],
   "source": [
    "# Find the maximum sequence length\n",
    "max_sequence_length = max(len(seq) for seq in xyz_training + xyz_validation + xyz_test)\n",
    "\n",
    "# Pad sequences to the maximum length\n",
    "\n",
    "xyz_training = pad_sequences(xyz_training, maxlen=max_sequence_length, dtype=float)\n",
    "xyz_validation = pad_sequences(xyz_validation, maxlen=max_sequence_length, dtype=float)\n",
    "xyz_test = pad_sequences(xyz_test, maxlen=max_sequence_length, dtype=float)\n"
   ]
  },
  {
   "cell_type": "code",
   "execution_count": 20,
   "id": "silent-scene",
   "metadata": {},
   "outputs": [
    {
     "name": "stdout",
     "output_type": "stream",
     "text": [
      "23800 36 23800 6\n"
     ]
    }
   ],
   "source": [
    "print(len(xyz_training), len(xyz_training[0]), len(p_theta_phi_training), len(p_theta_phi_training[0]))"
   ]
  },
  {
   "cell_type": "markdown",
   "id": "empirical-texas",
   "metadata": {},
   "source": [
    "# Neural Network"
   ]
  },
  {
   "cell_type": "code",
   "execution_count": 21,
   "id": "placed-state",
   "metadata": {},
   "outputs": [
    {
     "name": "stderr",
     "output_type": "stream",
     "text": [
      "2023-07-25 10:47:55.683753: W tensorflow/stream_executor/platform/default/dso_loader.cc:64] Could not load dynamic library 'libcuda.so.1'; dlerror: libcuda.so.1: cannot open shared object file: No such file or directory; LD_LIBRARY_PATH: /.singularity.d/libs\n",
      "2023-07-25 10:47:55.683810: W tensorflow/stream_executor/cuda/cuda_driver.cc:269] failed call to cuInit: UNKNOWN ERROR (303)\n",
      "2023-07-25 10:47:55.683850: I tensorflow/stream_executor/cuda/cuda_diagnostics.cc:156] kernel driver does not appear to be running on this host (farm180246.jlab.org): /proc/driver/nvidia/version does not exist\n",
      "2023-07-25 10:47:55.684408: I tensorflow/core/platform/cpu_feature_guard.cc:151] This TensorFlow binary is optimized with oneAPI Deep Neural Network Library (oneDNN) to use the following CPU instructions in performance-critical operations:  AVX2 AVX512F FMA\n",
      "To enable them in other operations, rebuild TensorFlow with the appropriate compiler flags.\n"
     ]
    }
   ],
   "source": [
    "model = keras.Sequential()\n",
    "\n",
    "input_dim = len(xyz_training[0])                       # input dimension depending on the amount of tracking data pulled from each event in REC::Traj\n",
    "output_dim = len(p_theta_phi_training[0])              # p, theta, phi, vx, vy, and vz\n",
    "\n",
    "model.add(keras.layers.Dense(units=64, activation='relu', input_shape=(input_dim,))) \n",
    "model.add(keras.layers.Dense(units=64, activation='relu')) \n",
    "model.add(keras.layers.Dense(units=64, activation='relu'))\n",
    "model.add(keras.layers.Dense(units=64, activation='relu')) \n",
    "model.add(keras.layers.Dense(units=64, activation='relu'))\n",
    "model.add(keras.layers.Dense(units=output_dim, activation='linear')) # linear activation?"
   ]
  },
  {
   "cell_type": "code",
   "execution_count": 22,
   "id": "behind-train",
   "metadata": {},
   "outputs": [],
   "source": [
    "model.compile(loss='mean_absolute_error', optimizer='adam') # 'mean_squared_error' if the data isn't normalized"
   ]
  },
  {
   "cell_type": "code",
   "execution_count": 23,
   "id": "varied-paste",
   "metadata": {},
   "outputs": [
    {
     "name": "stdout",
     "output_type": "stream",
     "text": [
      "Epoch 1/10\n",
      "372/372 [==============================] - 1s 2ms/step - loss: 0.0246 - val_loss: 0.0111\n",
      "Epoch 2/10\n",
      "372/372 [==============================] - 0s 1ms/step - loss: 0.0105 - val_loss: 0.0093\n",
      "Epoch 3/10\n",
      "372/372 [==============================] - 0s 1ms/step - loss: 0.0095 - val_loss: 0.0090\n",
      "Epoch 4/10\n",
      "372/372 [==============================] - 0s 1ms/step - loss: 0.0092 - val_loss: 0.0090\n",
      "Epoch 5/10\n",
      "372/372 [==============================] - 0s 1ms/step - loss: 0.0088 - val_loss: 0.0083\n",
      "Epoch 6/10\n",
      "372/372 [==============================] - 0s 1ms/step - loss: 0.0082 - val_loss: 0.0087\n",
      "Epoch 7/10\n",
      "372/372 [==============================] - 0s 1ms/step - loss: 0.0089 - val_loss: 0.0087\n",
      "Epoch 8/10\n",
      "372/372 [==============================] - 0s 1ms/step - loss: 0.0082 - val_loss: 0.0090\n",
      "Epoch 9/10\n",
      "372/372 [==============================] - 0s 1ms/step - loss: 0.0086 - val_loss: 0.0072\n",
      "Epoch 10/10\n",
      "372/372 [==============================] - 0s 1ms/step - loss: 0.0083 - val_loss: 0.0084\n"
     ]
    },
    {
     "data": {
      "text/plain": [
       "<keras.callbacks.History at 0x7f8e299c3490>"
      ]
     },
     "execution_count": 23,
     "metadata": {},
     "output_type": "execute_result"
    }
   ],
   "source": [
    "# fitting the neural network\n",
    "model.fit(xyz_training, np.array(p_theta_phi_training), batch_size=64, epochs=10, validation_data=(xyz_validation, np.array(p_theta_phi_validation)))"
   ]
  },
  {
   "cell_type": "code",
   "execution_count": 24,
   "id": "unknown-flower",
   "metadata": {},
   "outputs": [
    {
     "name": "stdout",
     "output_type": "stream",
     "text": [
      "213/213 [==============================] - 0s 731us/step - loss: 0.0090\n"
     ]
    }
   ],
   "source": [
    "loss= model.evaluate(xyz_test, np.array(p_theta_phi_test))"
   ]
  },
  {
   "cell_type": "code",
   "execution_count": 25,
   "id": "faced-painting",
   "metadata": {},
   "outputs": [
    {
     "name": "stdout",
     "output_type": "stream",
     "text": [
      "[[ 2.24792942e-01  1.27143785e-01  2.69677192e-01 -1.19792961e-03\n",
      "   4.09616565e-04 -2.30268911e-02]\n",
      " [ 3.05938333e-01  9.32446271e-02  5.17390072e-02 -2.82122754e-03\n",
      "  -1.04657258e-04 -2.46308595e-02]\n",
      " [ 6.37151957e-01  4.46101353e-02  7.45535135e-01 -4.17947583e-03\n",
      "  -4.69266000e-04 -2.60275230e-02]\n",
      " ...\n",
      " [ 3.87850851e-01  1.51186258e-01  6.00495674e-02 -2.77187210e-03\n",
      "  -4.11733316e-04 -2.71423087e-02]\n",
      " [ 3.89876932e-01  7.54270330e-02  4.06736195e-01 -2.36972002e-03\n",
      "  -6.56612334e-04 -2.40838192e-02]\n",
      " [ 1.89039439e-01  2.00779915e-01  5.24186194e-01 -2.16157455e-03\n",
      "   1.02549755e-04 -2.22214852e-02]]\n"
     ]
    }
   ],
   "source": [
    "# predicting\n",
    "predictions_normalized = model.predict(xyz_test)\n",
    "print(predictions_normalized)  "
   ]
  },
  {
   "cell_type": "code",
   "execution_count": 26,
   "id": "structural-seattle",
   "metadata": {},
   "outputs": [],
   "source": [
    "p_predictions_normalized = []\n",
    "theta_predictions_normalized = []\n",
    "phi_predictions_normalized = []\n",
    "\n",
    "vx_predictions_normalized = []\n",
    "vy_predictions_normalized = []\n",
    "vz_predictions_normalized = []\n",
    "\n",
    "for _,v in enumerate(predictions_normalized):\n",
    "    p_predictions_normalized.append(v[0])\n",
    "    theta_predictions_normalized.append(v[1])\n",
    "    phi_predictions_normalized.append(v[2])\n",
    "    vx_predictions_normalized.append(v[3])\n",
    "    vy_predictions_normalized.append(v[4])\n",
    "    vz_predictions_normalized.append(v[5])"
   ]
  },
  {
   "cell_type": "code",
   "execution_count": 39,
   "id": "desperate-relay",
   "metadata": {},
   "outputs": [
    {
     "data": {
      "image/png": "[encoded data removed]",
      "text/plain": [
       "<Figure size 1800x1152 with 6 Axes>"
      ]
     },
     "metadata": {
      "needs_background": "light"
     },
     "output_type": "display_data"
    }
   ],
   "source": [
    "# Create a grid of subplots\n",
    "fig1, axs1 = plt.subplots(2, 3, figsize=(25, 16))\n",
    "\n",
    "# Adjust spacing\n",
    "fig1.subplots_adjust(hspace=0.5)\n",
    "fig1.subplots_adjust(wspace=0.5)\n",
    "\n",
    "axs1[0,0].hist(p_predictions_normalized, bins=50, color=\"maroon\")\n",
    "axs1[0,0].set_xlabel(\"momentum, p (GeV)\")\n",
    "axs1[0,0].set_ylabel(\"Count\")\n",
    "\n",
    "axs1[0,1].hist(theta_predictions_normalized, bins=50, color=\"goldenrod\")\n",
    "axs1[0,1].set_xlabel(\"azimuthal angle (degrees)\")\n",
    "axs1[0,1].set_ylabel(\"Count\")\n",
    "\n",
    "axs1[0,1].set_title(\"p, theta, and phi normalized predictions\\n\\n\", loc='center', fontsize=24)\n",
    "\n",
    "axs1[0,2].hist(phi_predictions_normalized, bins=50, color=\"peru\")\n",
    "axs1[0,2].set_xlabel(\"polar angle (degrees)\")\n",
    "axs1[0,2].set_ylabel(\"Count\")\n",
    "\n",
    "\n",
    "axs1[1,0].hist(vx_predictions_normalized, bins=50, color=\"maroon\")\n",
    "axs1[1,0].set_xlabel(\"vx (cm)\")\n",
    "axs1[1,0].set_ylabel(\"Count\")\n",
    "\n",
    "axs1[1,1].hist(vy_predictions_normalized, bins=50, color=\"goldenrod\")\n",
    "axs1[1,1].set_xlabel(\"vy (cm)\")\n",
    "axs1[1,1].set_ylabel(\"Count\")\n",
    "\n",
    "axs1[1,1].set_title(\"vertex normalized predictions\\n\\n\", loc='center', fontsize=24)\n",
    "\n",
    "axs1[1,2].hist(vz_predictions_normalized, bins=50, color=\"peru\")\n",
    "axs1[1,2].set_xlabel(\"vz (cm)\")\n",
    "axs1[1,2].set_ylabel(\"Count\")\n",
    "\n",
    "plt.show()"
   ]
  },
  {
   "cell_type": "code",
   "execution_count": 28,
   "id": "hearing-serial",
   "metadata": {},
   "outputs": [],
   "source": [
    "# un-normalize data\n",
    "\n",
    "# Un-normalize p values to the range [0, 2]\n",
    "p_predictions = [p * 2 for p in p_predictions_normalized]\n",
    "\n",
    "# Un-normalize theta values to the range [0, 180]\n",
    "theta_predictions = [theta * 180 for theta in theta_predictions_normalized]\n",
    "\n",
    "# Un-normalize phi values to the range [-180, 180]\n",
    "phi_predictions = [phi * 360 - 180 for phi in phi_predictions_normalized]\n",
    "\n",
    "# Un-normalize vx, vy, vz\n",
    "vx_predictions = [filler * vx_max for filler in vx_predictions_normalized]\n",
    "\n",
    "vy_predictions = [filler * vy_max for filler in vy_predictions_normalized]\n",
    "\n",
    "vz_predictions = [filler * vz_max for filler in vz_predictions_normalized]"
   ]
  },
  {
   "cell_type": "code",
   "execution_count": 40,
   "id": "becoming-intellectual",
   "metadata": {},
   "outputs": [
    {
     "data": {
      "image/png": "[encoded data removed]",
      "text/plain": [
       "<Figure size 1800x1152 with 6 Axes>"
      ]
     },
     "metadata": {
      "needs_background": "light"
     },
     "output_type": "display_data"
    }
   ],
   "source": [
    "# Create a grid of subplots\n",
    "fig1, axs1 = plt.subplots(2, 3, figsize=(25, 16))\n",
    "\n",
    "# Adjust spacing\n",
    "fig1.subplots_adjust(hspace=0.5)\n",
    "fig1.subplots_adjust(wspace=0.5)\n",
    "\n",
    "axs1[0,0].hist(p_predictions, bins=50, color=\"maroon\")\n",
    "axs1[0,0].set_xlabel(\"momentum, p (GeV)\")\n",
    "axs1[0,0].set_ylabel(\"Count\")\n",
    "\n",
    "axs1[0,1].hist(theta_predictions, bins=50, color=\"goldenrod\")\n",
    "axs1[0,1].set_xlabel(\"azimuthal angle (degrees)\")\n",
    "axs1[0,1].set_ylabel(\"Count\")\n",
    "\n",
    "axs1[0,1].set_title(\"p, theta, and phi predictions\\n\\n\", loc='center', fontsize=24)\n",
    "\n",
    "axs1[0,2].hist(phi_predictions, bins=50, color=\"peru\")\n",
    "axs1[0,2].set_xlabel(\"polar angle (degrees)\")\n",
    "axs1[0,2].set_ylabel(\"Count\")\n",
    "\n",
    "\n",
    "axs1[1,0].hist(vx_predictions, bins=50, color=\"maroon\")\n",
    "axs1[1,0].set_xlabel(\"vx (cm)\")\n",
    "axs1[1,0].set_ylabel(\"Count\")\n",
    "\n",
    "axs1[1,1].hist(vy_predictions, bins=50, color=\"goldenrod\")\n",
    "axs1[1,1].set_xlabel(\"vy (cm)\")\n",
    "axs1[1,1].set_ylabel(\"Count\")\n",
    "\n",
    "axs1[1,1].set_title(\"vertex predictions\\n\\n\", loc='center', fontsize=24)\n",
    "\n",
    "axs1[1,2].hist(vz_predictions, bins=50, color=\"peru\")\n",
    "axs1[1,2].set_xlabel(\"vz (cm)\")\n",
    "axs1[1,2].set_ylabel(\"Count\")\n",
    "\n",
    "plt.show()"
   ]
  },
  {
   "cell_type": "code",
   "execution_count": 30,
   "id": "advanced-apartment",
   "metadata": {},
   "outputs": [
    {
     "data": {
      "text/plain": [
       "6801"
      ]
     },
     "execution_count": 30,
     "metadata": {},
     "output_type": "execute_result"
    }
   ],
   "source": [
    "len(xyz_test)"
   ]
  },
  {
   "cell_type": "markdown",
   "id": "demographic-barrel",
   "metadata": {},
   "source": [
    "# checking resolution\n",
    "### where to go next? how?"
   ]
  },
  {
   "cell_type": "code",
   "execution_count": 31,
   "id": "threatened-intervention",
   "metadata": {},
   "outputs": [
    {
     "name": "stdout",
     "output_type": "stream",
     "text": [
      "p vector lengths: 34001 6801 231240801\n"
     ]
    }
   ],
   "source": [
    "print(\"p vector lengths:\", len(p_true), len(p_predictions), (len(p_true) * len(p_predictions)))"
   ]
  },
  {
   "cell_type": "code",
   "execution_count": 32,
   "id": "polyphonic-connecticut",
   "metadata": {},
   "outputs": [
    {
     "name": "stdout",
     "output_type": "stream",
     "text": [
      "time computing 169.50918583851308\n",
      "[[    0     1     2 ... 11257 11531 13865]\n",
      " [ 2694  1952  1176 ...  5577  2806  6317]]\n",
      "231240801\n"
     ]
    }
   ],
   "source": [
    "# matching with cutoffs |theta_mc-theta_rec|<2deg and |phi_mc-phi_rec|<6deg, minimize quadrature sum error\n",
    "# change matching formula to also include momentum? |p_true - p_predictions|<0.05 GeV\n",
    "\n",
    "start_time = timeit.default_timer()\n",
    "\n",
    "p_predictions_changing = p_predictions[:]\n",
    "theta_predictions_changing = theta_predictions[:]\n",
    "phi_predictions_changing = phi_predictions[:]\n",
    "\n",
    "matching_indices = np.zeros((2, len(p_true)), dtype=int)\n",
    "unmatched_indices = np.array([], dtype=int)\n",
    "num_matches = 0\n",
    "\n",
    "# going through all the \"true\" pions\n",
    "for i,_ in enumerate(p_true):\n",
    "    \n",
    "    min_quad_error = 1000 # arbitrary large number\n",
    "    for j,_ in enumerate(p_predictions): # for each true pion, look through every predicted pion\n",
    "        \n",
    "        theta_error = theta_true[i] - theta_predictions_changing[j]\n",
    "        phi_error = phi_true[i] - phi_predictions_changing[j]\n",
    "        p_error = p_true[i] - p_predictions_changing[j] \n",
    "        \n",
    "        if (abs(theta_error) < 2 or abs(theta_error) > 178) & (abs(phi_error) < 6 or abs(phi_error) > 354): # does this true pion have a similar predicted pion, based on their angles?\n",
    "            min_quad_error_temp = np.sqrt((theta_error) ** 2 + (phi_error) ** 2) + 10 * p_error # in case there are multiple hits, we can minimize based off a quadrature sum\n",
    "            if (min_quad_error_temp < min_quad_error):\n",
    "                min_quad_error = min_quad_error_temp\n",
    "                predictions_index = j # saving the matched index of the \"best\" predicted pion\n",
    "                \n",
    "    if (min_quad_error < 1000): # if there were any matches for this true pion, essentially\n",
    "        matching_indices[0][num_matches] = i\n",
    "        matching_indices[1][num_matches] = predictions_index # saving the matching indices of the true and predicted pions\n",
    "        \n",
    "        p_predictions_changing[predictions_index] = 100\n",
    "        theta_predictions_changing[predictions_index] = 100\n",
    "        phi_predictions_changing[predictions_index] = 100  # this is my way of avoiding duplicates - obviously angles of 3000 degrees will not be put as a match to other pions going forward\n",
    "        \n",
    "        num_matches += 1\n",
    "    else:\n",
    "        unmatched_indices = np.append(unmatched_indices, [i])\n",
    "        \n",
    "matching_indices = matching_indices[:, :num_matches]\n",
    "\n",
    "print(\"time computing\", timeit.default_timer() - start_time)\n",
    "print(matching_indices)\n",
    "print(len(p_true) * len(p_predictions))"
   ]
  },
  {
   "cell_type": "code",
   "execution_count": 33,
   "id": "realistic-nightmare",
   "metadata": {},
   "outputs": [],
   "source": [
    "# finding the difference between the true and predicted data\n",
    "p_difference = []\n",
    "theta_difference = []\n",
    "phi_difference = []\n",
    "\n",
    "for i,_ in enumerate(matching_indices[1]):\n",
    "    p_difference.append(p_true[matching_indices[0][i]] - p_predictions[matching_indices[1][i]])\n",
    "    theta_difference.append(theta_true[matching_indices[0][i]] - theta_predictions[matching_indices[1][i]])\n",
    "    phi_difference.append(phi_true[matching_indices[0][i]] - phi_predictions[matching_indices[1][i]])\n",
    "\n",
    "p_difference = np.array(p_difference)\n",
    "theta_difference = np.array(theta_difference)\n",
    "phi_difference = np.array(phi_difference)\n"
   ]
  },
  {
   "cell_type": "code",
   "execution_count": 34,
   "id": "lesbian-surge",
   "metadata": {},
   "outputs": [
    {
     "data": {
      "image/png": "[encoded data removed]",
      "text/plain": [
       "<Figure size 1800x864 with 3 Axes>"
      ]
     },
     "metadata": {
      "needs_background": "light"
     },
     "output_type": "display_data"
    }
   ],
   "source": [
    "# Create a grid of subplots\n",
    "fig1, axs1 = plt.subplots(1, 3, figsize=(25, 12))\n",
    "\n",
    "# Adjust spacing\n",
    "fig1.subplots_adjust(hspace=0.5)\n",
    "fig1.subplots_adjust(wspace=0.5)\n",
    "\n",
    "# predicted data resolution histograms\n",
    "\n",
    "axs1[0].hist(theta_difference, bins=100, color=\"fuchsia\")\n",
    "axs1[0].set_ylabel(\"Count\")\n",
    "axs1[0].set_xlabel(r\"$\\theta$ difference (degrees)\")\n",
    "\n",
    "axs1[1].hist(phi_difference, bins=3000, color=\"mediumblue\")\n",
    "axs1[1].set_ylabel(\"Count\")\n",
    "axs1[1].set_xlabel(r\"$\\phi$ difference (degrees)\")\n",
    "axs1[1].set_xlim(-6, 6)\n",
    "\n",
    "axs1[2].hist(p_difference, bins=100, color=\"darkseagreen\")\n",
    "axs1[2].set_ylabel(\"Count\")\n",
    "axs1[2].set_xlabel(r\"p difference (GeV)\")\n",
    "\n",
    "\n",
    "plt.suptitle(\"Angle and momentum resolution\", fontsize=24)\n",
    "\n",
    "plt.show()"
   ]
  },
  {
   "cell_type": "code",
   "execution_count": null,
   "id": "light-persian",
   "metadata": {},
   "outputs": [],
   "source": []
  }
 ],
 "metadata": {
  "kernelspec": {
   "display_name": "Python 3",
   "language": "python",
   "name": "python3"
  },
  "language_info": {
   "codemirror_mode": {
    "name": "ipython",
    "version": 3
   },
   "file_extension": ".py",
   "mimetype": "text/x-python",
   "name": "python",
   "nbconvert_exporter": "python",
   "pygments_lexer": "ipython3",
   "version": "3.8.6"
  }
 },
 "nbformat": 4,
 "nbformat_minor": 5
}
